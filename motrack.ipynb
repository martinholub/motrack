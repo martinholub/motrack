{
 "cells": [
  {
   "cell_type": "code",
   "execution_count": null,
   "metadata": {
    "collapsed": true
   },
   "outputs": [],
   "source": [
    "import cv2\n",
    "import numpy as np\n",
    "#optional argument\n",
    "def nothing(x):\n",
    "    pass\n",
    "cap = cv2.VideoCapture(video_src)\n",
    "cv2.namedWindow('Slider', cv2.WINDOW_NORMAL)\n",
    "cv2.resizeWindow('Sldier', 600,300)\n",
    "cv2.namedWindow('video', cv2.WINDOW_NORMAL)\n",
    "cv2.resizeWindow('video', 600,600)\n",
    "\n",
    "#easy assigments\n",
    "hh='Hue High'\n",
    "hl='Hue Low'\n",
    "sh='Saturation High'\n",
    "sl='Saturation Low'\n",
    "vh='Value High'\n",
    "vl='Value Low'\n",
    "\n",
    "cv2.createTrackbar(hl, 'Slider',0,179,nothing)\n",
    "cv2.createTrackbar(hh, 'Slider',0,179,nothing)\n",
    "cv2.createTrackbar(sl, 'Slider',0,255,nothing)\n",
    "cv2.createTrackbar(sh, 'Slider',0,255,nothing)\n",
    "cv2.createTrackbar(vl, 'Slider',0,255,nothing)\n",
    "cv2.createTrackbar(vh, 'Slider',0,255,nothing)\n",
    "\n",
    "while(1):\n",
    "    _,frame=cap.read()\n",
    "    frame=cv2.GaussianBlur(frame,(5,5),0)\n",
    "    #convert to HSV from BGR\n",
    "    hsv=cv2.cvtColor(frame, cv2.COLOR_BGR2HSV)\n",
    "\n",
    "\n",
    "    #read trackbar positions for all\n",
    "    hul=cv2.getTrackbarPos(hl, 'Slider')\n",
    "    huh=cv2.getTrackbarPos(hh, 'Slider')\n",
    "    sal=cv2.getTrackbarPos(sl, 'Slider')\n",
    "    sah=cv2.getTrackbarPos(sh, 'Slider')\n",
    "    val=cv2.getTrackbarPos(vl, 'Slider')\n",
    "    vah=cv2.getTrackbarPos(vh, 'Slider')\n",
    "    #make array for final values\n",
    "    HSVLOW=np.array([hul,sal,val])\n",
    "    HSVHIGH=np.array([huh,sah,vah])\n",
    "\n",
    "    #apply the range on a mask\n",
    "    mask = cv2.inRange(hsv,HSVLOW, HSVHIGH)\n",
    "    res = cv2.bitwise_and(frame,frame, mask =mask)\n",
    "\n",
    "    cv2.imshow('Slider', res)\n",
    "    cv2.imshow('video', frame)\n",
    "    k = cv2.waitKey(5) & 0xFF\n",
    "    if k == 27:\n",
    "        break\n",
    "\n",
    "\n",
    "cv2.destroyAllWindows()"
   ]
  },
  {
   "cell_type": "code",
   "execution_count": 14,
   "metadata": {},
   "outputs": [
    {
     "name": "stdout",
     "output_type": "stream",
     "text": [
      "The autoreload extension is already loaded. To reload it, use:\n",
      "  %reload_ext autoreload\n",
      "Change ranges on sliders and press Enter to update\n"
     ]
    }
   ],
   "source": [
    "%load_ext autoreload\n",
    "%autoreload 2\n",
    "%matplotlib inline\n",
    "\n",
    "import motrack\n",
    "video_src = \"videos/test.avi\" # this is GOPR0950.MP4 converted with ffmpeg -.-\n",
    "motrack.select_hsv_range([], [], [], video_src)"
   ]
  },
  {
   "cell_type": "markdown",
   "metadata": {},
   "source": [
    "next:\n",
    "- need to presave roi and frame to ease debugging\n",
    "- continue debuggin at line 118"
   ]
  }
 ],
 "metadata": {
  "kernelspec": {
   "display_name": "Python 3",
   "language": "python",
   "name": "python3"
  },
  "language_info": {
   "codemirror_mode": {
    "name": "ipython",
    "version": 3
   },
   "file_extension": ".py",
   "mimetype": "text/x-python",
   "name": "python",
   "nbconvert_exporter": "python",
   "pygments_lexer": "ipython3",
   "version": "3.6.2"
  }
 },
 "nbformat": 4,
 "nbformat_minor": 2
}
