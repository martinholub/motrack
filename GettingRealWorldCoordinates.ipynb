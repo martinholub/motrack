{
 "cells": [
  {
   "cell_type": "markdown",
   "metadata": {},
   "source": [
    "In this notebook we will apply what we have learned in prevous one (motion-tracking.ipynb where we developed necessary code for rectangular pattern of circles) and try to adjust our code for circular pattern and diffferent conditions (illumination, objects, ...)\n",
    "\n",
    "To achieve this we need to:\n",
    "1. Correct lens distortion by doing camera calibration (can also try to find exisitng params)\n",
    "2. Load the video and select representative frame\n",
    "3. Find objects we will use for obtaining transformation parameters\n",
    " *  4 holes that should lie in the corners of a square\n",
    " *  Trapezoid defined by major and minor axes of an ellipse as compared to sqare circumscribed to idealized circle\n",
    "4. Use 2-step approach for getting view from top (Perspective + Affine)\n",
    "5. Get scale from radius in the image as compared to real world radius"
   ]
  },
  {
   "cell_type": "code",
   "execution_count": 1,
   "metadata": {
    "collapsed": true
   },
   "outputs": [],
   "source": [
    "# Import packages\n",
    "from scipy.spatial import distance as dist\n",
    "import numpy as np\n",
    "import cv2\n",
    "import matplotlib.pyplot as plt\n",
    "import imutils\n",
    "from skimage import exposure\n",
    "%matplotlib inline"
   ]
  }
 ],
 "metadata": {
  "kernelspec": {
   "display_name": "Python 3",
   "language": "python",
   "name": "python3"
  },
  "language_info": {
   "codemirror_mode": {
    "name": "ipython",
    "version": 3
   },
   "file_extension": ".py",
   "mimetype": "text/x-python",
   "name": "python",
   "nbconvert_exporter": "python",
   "pygments_lexer": "ipython3",
   "version": "3.6.2"
  }
 },
 "nbformat": 4,
 "nbformat_minor": 2
}
